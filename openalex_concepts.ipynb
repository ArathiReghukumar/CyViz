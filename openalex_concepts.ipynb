{
 "cells": [
  {
   "cell_type": "code",
   "execution_count": 1,
   "metadata": {},
   "outputs": [],
   "source": [
    "import requests"
   ]
  },
  {
   "cell_type": "code",
   "execution_count": 8,
   "metadata": {},
   "outputs": [],
   "source": [
    "url = 'https://api.openalex.org/concepts'\n",
    "\n",
    "params = {\n",
    "    'filter': 'ancestors.id:C41008148',\n",
    "    'per_page': 200\n",
    "}"
   ]
  },
  {
   "cell_type": "code",
   "execution_count": 9,
   "metadata": {},
   "outputs": [],
   "source": [
    "def fetch(params):\n",
    "    data = []\n",
    "    for i in range(1, 51):\n",
    "        r = requests.get(url, params | {'page': i})\n",
    "        json_data = r.json()\n",
    "        print(json_data['meta'])\n",
    "        assert json_data['meta']['count'] < 10000\n",
    "        if i == 1: print(json_data['meta']['count'])\n",
    "        if len(json_data['results']) == 0: break\n",
    "        data.extend(json_data['results'])\n",
    "\n",
    "    return data"
   ]
  },
  {
   "cell_type": "code",
   "execution_count": 10,
   "metadata": {},
   "outputs": [
    {
     "name": "stdout",
     "output_type": "stream",
     "text": [
      "{'count': 8845, 'db_response_time_ms': 115, 'page': 1, 'per_page': 200}\n",
      "8845\n",
      "{'count': 8845, 'db_response_time_ms': 93, 'page': 2, 'per_page': 200}\n",
      "{'count': 8845, 'db_response_time_ms': 111, 'page': 3, 'per_page': 200}\n",
      "{'count': 8845, 'db_response_time_ms': 132, 'page': 4, 'per_page': 200}\n",
      "{'count': 8845, 'db_response_time_ms': 125, 'page': 5, 'per_page': 200}\n",
      "{'count': 8845, 'db_response_time_ms': 123, 'page': 6, 'per_page': 200}\n",
      "{'count': 8845, 'db_response_time_ms': 103, 'page': 7, 'per_page': 200}\n",
      "{'count': 8845, 'db_response_time_ms': 102, 'page': 8, 'per_page': 200}\n",
      "{'count': 8845, 'db_response_time_ms': 96, 'page': 9, 'per_page': 200}\n",
      "{'count': 8845, 'db_response_time_ms': 117, 'page': 10, 'per_page': 200}\n",
      "{'count': 8845, 'db_response_time_ms': 113, 'page': 11, 'per_page': 200}\n",
      "{'count': 8845, 'db_response_time_ms': 118, 'page': 12, 'per_page': 200}\n",
      "{'count': 8845, 'db_response_time_ms': 106, 'page': 13, 'per_page': 200}\n",
      "{'count': 8845, 'db_response_time_ms': 100, 'page': 14, 'per_page': 200}\n",
      "{'count': 8845, 'db_response_time_ms': 120, 'page': 15, 'per_page': 200}\n",
      "{'count': 8845, 'db_response_time_ms': 87, 'page': 16, 'per_page': 200}\n",
      "{'count': 8845, 'db_response_time_ms': 92, 'page': 17, 'per_page': 200}\n",
      "{'count': 8845, 'db_response_time_ms': 125, 'page': 18, 'per_page': 200}\n",
      "{'count': 8845, 'db_response_time_ms': 106, 'page': 19, 'per_page': 200}\n",
      "{'count': 8845, 'db_response_time_ms': 103, 'page': 20, 'per_page': 200}\n",
      "{'count': 8845, 'db_response_time_ms': 98, 'page': 21, 'per_page': 200}\n",
      "{'count': 8845, 'db_response_time_ms': 85, 'page': 22, 'per_page': 200}\n",
      "{'count': 8845, 'db_response_time_ms': 108, 'page': 23, 'per_page': 200}\n",
      "{'count': 8845, 'db_response_time_ms': 108, 'page': 24, 'per_page': 200}\n",
      "{'count': 8845, 'db_response_time_ms': 119, 'page': 25, 'per_page': 200}\n",
      "{'count': 8845, 'db_response_time_ms': 132, 'page': 26, 'per_page': 200}\n",
      "{'count': 8845, 'db_response_time_ms': 97, 'page': 27, 'per_page': 200}\n",
      "{'count': 8845, 'db_response_time_ms': 109, 'page': 28, 'per_page': 200}\n",
      "{'count': 8845, 'db_response_time_ms': 99, 'page': 29, 'per_page': 200}\n",
      "{'count': 8845, 'db_response_time_ms': 94, 'page': 30, 'per_page': 200}\n",
      "{'count': 8845, 'db_response_time_ms': 82, 'page': 31, 'per_page': 200}\n",
      "{'count': 8845, 'db_response_time_ms': 130, 'page': 32, 'per_page': 200}\n",
      "{'count': 8845, 'db_response_time_ms': 105, 'page': 33, 'per_page': 200}\n",
      "{'count': 8845, 'db_response_time_ms': 118, 'page': 34, 'per_page': 200}\n",
      "{'count': 8845, 'db_response_time_ms': 120, 'page': 35, 'per_page': 200}\n",
      "{'count': 8845, 'db_response_time_ms': 94, 'page': 36, 'per_page': 200}\n",
      "{'count': 8845, 'db_response_time_ms': 109, 'page': 37, 'per_page': 200}\n",
      "{'count': 8845, 'db_response_time_ms': 91, 'page': 38, 'per_page': 200}\n",
      "{'count': 8845, 'db_response_time_ms': 106, 'page': 39, 'per_page': 200}\n",
      "{'count': 8845, 'db_response_time_ms': 93, 'page': 40, 'per_page': 200}\n",
      "{'count': 8845, 'db_response_time_ms': 105, 'page': 41, 'per_page': 200}\n",
      "{'count': 8845, 'db_response_time_ms': 84, 'page': 42, 'per_page': 200}\n",
      "{'count': 8845, 'db_response_time_ms': 92, 'page': 43, 'per_page': 200}\n",
      "{'count': 8845, 'db_response_time_ms': 93, 'page': 44, 'per_page': 200}\n",
      "{'count': 8845, 'db_response_time_ms': 45, 'page': 45, 'per_page': 200}\n",
      "{'count': 8845, 'db_response_time_ms': 24, 'page': 46, 'per_page': 200}\n"
     ]
    }
   ],
   "source": [
    "data = fetch(params)"
   ]
  },
  {
   "cell_type": "code",
   "execution_count": 11,
   "metadata": {},
   "outputs": [],
   "source": [
    "from pymongo import MongoClient\n",
    "client = MongoClient('localhost', 27017)"
   ]
  },
  {
   "cell_type": "code",
   "execution_count": 12,
   "metadata": {},
   "outputs": [],
   "source": [
    "db = client['diva-proj']\n",
    "concepts = db.concepts"
   ]
  },
  {
   "cell_type": "code",
   "execution_count": 13,
   "metadata": {},
   "outputs": [],
   "source": [
    "try:\n",
    "    concepts.insert_many(data, ordered=False)\n",
    "except:\n",
    "    print('asd')"
   ]
  },
  {
   "cell_type": "code",
   "execution_count": null,
   "metadata": {},
   "outputs": [],
   "source": []
  },
  {
   "cell_type": "code",
   "execution_count": null,
   "metadata": {},
   "outputs": [],
   "source": []
  }
 ],
 "metadata": {
  "interpreter": {
   "hash": "88922aa3156c74f7f862916dc584dff598c83e616b4cb5980487ea221508d1bf"
  },
  "kernelspec": {
   "display_name": "Python 3.9.0 ('diva')",
   "language": "python",
   "name": "python3"
  },
  "language_info": {
   "codemirror_mode": {
    "name": "ipython",
    "version": 3
   },
   "file_extension": ".py",
   "mimetype": "text/x-python",
   "name": "python",
   "nbconvert_exporter": "python",
   "pygments_lexer": "ipython3",
   "version": "3.9.0"
  },
  "orig_nbformat": 4
 },
 "nbformat": 4,
 "nbformat_minor": 2
}
