{
 "cells": [
  {
   "cell_type": "code",
   "execution_count": 7,
   "metadata": {},
   "outputs": [],
   "source": [
    "from pymongo import MongoClient\n",
    "from datetime import datetime\n",
    "from dateutil.relativedelta import relativedelta\n",
    "from tqdm import tqdm\n",
    "import networkx as nx\n",
    "import itertools\n",
    "import matplotlib.pyplot as plt\n",
    "from collections import defaultdict, Counter\n",
    "\n",
    "from utils import *\n",
    "\n",
    "client = MongoClient('localhost', 27017)\n",
    "db = client['diva-proj']\n",
    "papers = db.papers"
   ]
  },
  {
   "cell_type": "code",
   "execution_count": 9,
   "metadata": {},
   "outputs": [],
   "source": [
    "query = {\n",
    "    '$and': [{\"concepts.id\": \"https://openalex.org/C75684735\"}, {\"concepts.id\": \"https://openalex.org/C175801342\"}]\n",
    "}"
   ]
  },
  {
   "cell_type": "code",
   "execution_count": 10,
   "metadata": {},
   "outputs": [
    {
     "ename": "MemoryError",
     "evalue": "",
     "output_type": "error",
     "traceback": [
      "\u001b[1;31m---------------------------------------------------------------------------\u001b[0m",
      "\u001b[1;31mMemoryError\u001b[0m                               Traceback (most recent call last)",
      "\u001b[1;32m~\\AppData\\Local\\Temp/ipykernel_3156/4266858874.py\u001b[0m in \u001b[0;36m<module>\u001b[1;34m\u001b[0m\n\u001b[1;32m----> 1\u001b[1;33m \u001b[0masd\u001b[0m \u001b[1;33m=\u001b[0m \u001b[0mlist\u001b[0m\u001b[1;33m(\u001b[0m\u001b[0mpapers\u001b[0m\u001b[1;33m.\u001b[0m\u001b[0mfind\u001b[0m\u001b[1;33m(\u001b[0m\u001b[0mquery\u001b[0m\u001b[1;33m)\u001b[0m\u001b[1;33m)\u001b[0m\u001b[1;33m\u001b[0m\u001b[1;33m\u001b[0m\u001b[0m\n\u001b[0m",
      "\u001b[1;32m~\\miniconda3\\envs\\diva\\lib\\site-packages\\pymongo\\cursor.py\u001b[0m in \u001b[0;36mnext\u001b[1;34m(self)\u001b[0m\n\u001b[0;32m   1157\u001b[0m         \u001b[1;32mif\u001b[0m \u001b[0mself\u001b[0m\u001b[1;33m.\u001b[0m\u001b[0m__empty\u001b[0m\u001b[1;33m:\u001b[0m\u001b[1;33m\u001b[0m\u001b[1;33m\u001b[0m\u001b[0m\n\u001b[0;32m   1158\u001b[0m             \u001b[1;32mraise\u001b[0m \u001b[0mStopIteration\u001b[0m\u001b[1;33m\u001b[0m\u001b[1;33m\u001b[0m\u001b[0m\n\u001b[1;32m-> 1159\u001b[1;33m         \u001b[1;32mif\u001b[0m \u001b[0mlen\u001b[0m\u001b[1;33m(\u001b[0m\u001b[0mself\u001b[0m\u001b[1;33m.\u001b[0m\u001b[0m__data\u001b[0m\u001b[1;33m)\u001b[0m \u001b[1;32mor\u001b[0m \u001b[0mself\u001b[0m\u001b[1;33m.\u001b[0m\u001b[0m_refresh\u001b[0m\u001b[1;33m(\u001b[0m\u001b[1;33m)\u001b[0m\u001b[1;33m:\u001b[0m\u001b[1;33m\u001b[0m\u001b[1;33m\u001b[0m\u001b[0m\n\u001b[0m\u001b[0;32m   1160\u001b[0m             \u001b[1;32mreturn\u001b[0m \u001b[0mself\u001b[0m\u001b[1;33m.\u001b[0m\u001b[0m__data\u001b[0m\u001b[1;33m.\u001b[0m\u001b[0mpopleft\u001b[0m\u001b[1;33m(\u001b[0m\u001b[1;33m)\u001b[0m\u001b[1;33m\u001b[0m\u001b[1;33m\u001b[0m\u001b[0m\n\u001b[0;32m   1161\u001b[0m         \u001b[1;32melse\u001b[0m\u001b[1;33m:\u001b[0m\u001b[1;33m\u001b[0m\u001b[1;33m\u001b[0m\u001b[0m\n",
      "\u001b[1;32m~\\miniconda3\\envs\\diva\\lib\\site-packages\\pymongo\\cursor.py\u001b[0m in \u001b[0;36m_refresh\u001b[1;34m(self)\u001b[0m\n\u001b[0;32m   1098\u001b[0m                                     \u001b[0mself\u001b[0m\u001b[1;33m.\u001b[0m\u001b[0m__sock_mgr\u001b[0m\u001b[1;33m,\u001b[0m\u001b[1;33m\u001b[0m\u001b[1;33m\u001b[0m\u001b[0m\n\u001b[0;32m   1099\u001b[0m                                     self.__exhaust)\n\u001b[1;32m-> 1100\u001b[1;33m             \u001b[0mself\u001b[0m\u001b[1;33m.\u001b[0m\u001b[0m__send_message\u001b[0m\u001b[1;33m(\u001b[0m\u001b[0mg\u001b[0m\u001b[1;33m)\u001b[0m\u001b[1;33m\u001b[0m\u001b[1;33m\u001b[0m\u001b[0m\n\u001b[0m\u001b[0;32m   1101\u001b[0m \u001b[1;33m\u001b[0m\u001b[0m\n\u001b[0;32m   1102\u001b[0m         \u001b[1;32mreturn\u001b[0m \u001b[0mlen\u001b[0m\u001b[1;33m(\u001b[0m\u001b[0mself\u001b[0m\u001b[1;33m.\u001b[0m\u001b[0m__data\u001b[0m\u001b[1;33m)\u001b[0m\u001b[1;33m\u001b[0m\u001b[1;33m\u001b[0m\u001b[0m\n",
      "\u001b[1;32m~\\miniconda3\\envs\\diva\\lib\\site-packages\\pymongo\\cursor.py\u001b[0m in \u001b[0;36m__send_message\u001b[1;34m(self, operation)\u001b[0m\n\u001b[0;32m    969\u001b[0m \u001b[1;33m\u001b[0m\u001b[0m\n\u001b[0;32m    970\u001b[0m         \u001b[1;32mtry\u001b[0m\u001b[1;33m:\u001b[0m\u001b[1;33m\u001b[0m\u001b[1;33m\u001b[0m\u001b[0m\n\u001b[1;32m--> 971\u001b[1;33m             response = client._run_operation(\n\u001b[0m\u001b[0;32m    972\u001b[0m                 operation, self._unpack_response, address=self.__address)\n\u001b[0;32m    973\u001b[0m         \u001b[1;32mexcept\u001b[0m \u001b[0mOperationFailure\u001b[0m \u001b[1;32mas\u001b[0m \u001b[0mexc\u001b[0m\u001b[1;33m:\u001b[0m\u001b[1;33m\u001b[0m\u001b[1;33m\u001b[0m\u001b[0m\n",
      "\u001b[1;32m~\\miniconda3\\envs\\diva\\lib\\site-packages\\pymongo\\mongo_client.py\u001b[0m in \u001b[0;36m_run_operation\u001b[1;34m(self, operation, unpack_res, address)\u001b[0m\n\u001b[0;32m   1213\u001b[0m                 unpack_res)\n\u001b[0;32m   1214\u001b[0m \u001b[1;33m\u001b[0m\u001b[0m\n\u001b[1;32m-> 1215\u001b[1;33m         return self._retryable_read(\n\u001b[0m\u001b[0;32m   1216\u001b[0m             \u001b[0m_cmd\u001b[0m\u001b[1;33m,\u001b[0m \u001b[0moperation\u001b[0m\u001b[1;33m.\u001b[0m\u001b[0mread_preference\u001b[0m\u001b[1;33m,\u001b[0m \u001b[0moperation\u001b[0m\u001b[1;33m.\u001b[0m\u001b[0msession\u001b[0m\u001b[1;33m,\u001b[0m\u001b[1;33m\u001b[0m\u001b[1;33m\u001b[0m\u001b[0m\n\u001b[0;32m   1217\u001b[0m             address=address, retryable=isinstance(operation, message._Query))\n",
      "\u001b[1;32m~\\miniconda3\\envs\\diva\\lib\\site-packages\\pymongo\\mongo_client.py\u001b[0m in \u001b[0;36m_retryable_read\u001b[1;34m(self, func, read_pref, session, address, retryable)\u001b[0m\n\u001b[0;32m   1311\u001b[0m                         \u001b[1;31m# not support retryable reads, raise the last error.\u001b[0m\u001b[1;33m\u001b[0m\u001b[1;33m\u001b[0m\u001b[1;33m\u001b[0m\u001b[0m\n\u001b[0;32m   1312\u001b[0m                         \u001b[1;32mraise\u001b[0m \u001b[0mlast_error\u001b[0m\u001b[1;33m\u001b[0m\u001b[1;33m\u001b[0m\u001b[0m\n\u001b[1;32m-> 1313\u001b[1;33m                     \u001b[1;32mreturn\u001b[0m \u001b[0mfunc\u001b[0m\u001b[1;33m(\u001b[0m\u001b[0msession\u001b[0m\u001b[1;33m,\u001b[0m \u001b[0mserver\u001b[0m\u001b[1;33m,\u001b[0m \u001b[0msock_info\u001b[0m\u001b[1;33m,\u001b[0m \u001b[0msecondary_ok\u001b[0m\u001b[1;33m)\u001b[0m\u001b[1;33m\u001b[0m\u001b[1;33m\u001b[0m\u001b[0m\n\u001b[0m\u001b[0;32m   1314\u001b[0m             \u001b[1;32mexcept\u001b[0m \u001b[0mServerSelectionTimeoutError\u001b[0m\u001b[1;33m:\u001b[0m\u001b[1;33m\u001b[0m\u001b[1;33m\u001b[0m\u001b[0m\n\u001b[0;32m   1315\u001b[0m                 \u001b[1;32mif\u001b[0m \u001b[0mretrying\u001b[0m\u001b[1;33m:\u001b[0m\u001b[1;33m\u001b[0m\u001b[1;33m\u001b[0m\u001b[0m\n",
      "\u001b[1;32m~\\miniconda3\\envs\\diva\\lib\\site-packages\\pymongo\\mongo_client.py\u001b[0m in \u001b[0;36m_cmd\u001b[1;34m(session, server, sock_info, secondary_ok)\u001b[0m\n\u001b[0;32m   1209\u001b[0m \u001b[1;33m\u001b[0m\u001b[0m\n\u001b[0;32m   1210\u001b[0m         \u001b[1;32mdef\u001b[0m \u001b[0m_cmd\u001b[0m\u001b[1;33m(\u001b[0m\u001b[0msession\u001b[0m\u001b[1;33m,\u001b[0m \u001b[0mserver\u001b[0m\u001b[1;33m,\u001b[0m \u001b[0msock_info\u001b[0m\u001b[1;33m,\u001b[0m \u001b[0msecondary_ok\u001b[0m\u001b[1;33m)\u001b[0m\u001b[1;33m:\u001b[0m\u001b[1;33m\u001b[0m\u001b[1;33m\u001b[0m\u001b[0m\n\u001b[1;32m-> 1211\u001b[1;33m             return server.run_operation(\n\u001b[0m\u001b[0;32m   1212\u001b[0m                 \u001b[0msock_info\u001b[0m\u001b[1;33m,\u001b[0m \u001b[0moperation\u001b[0m\u001b[1;33m,\u001b[0m \u001b[0msecondary_ok\u001b[0m\u001b[1;33m,\u001b[0m \u001b[0mself\u001b[0m\u001b[1;33m.\u001b[0m\u001b[0m_event_listeners\u001b[0m\u001b[1;33m,\u001b[0m\u001b[1;33m\u001b[0m\u001b[1;33m\u001b[0m\u001b[0m\n\u001b[0;32m   1213\u001b[0m                 unpack_res)\n",
      "\u001b[1;32m~\\miniconda3\\envs\\diva\\lib\\site-packages\\pymongo\\server.py\u001b[0m in \u001b[0;36mrun_operation\u001b[1;34m(self, sock_info, operation, set_secondary_okay, listeners, unpack_res)\u001b[0m\n\u001b[0;32m    111\u001b[0m             \u001b[1;32melse\u001b[0m\u001b[1;33m:\u001b[0m\u001b[1;33m\u001b[0m\u001b[1;33m\u001b[0m\u001b[0m\n\u001b[0;32m    112\u001b[0m                 \u001b[0msock_info\u001b[0m\u001b[1;33m.\u001b[0m\u001b[0msend_message\u001b[0m\u001b[1;33m(\u001b[0m\u001b[0mdata\u001b[0m\u001b[1;33m,\u001b[0m \u001b[0mmax_doc_size\u001b[0m\u001b[1;33m)\u001b[0m\u001b[1;33m\u001b[0m\u001b[1;33m\u001b[0m\u001b[0m\n\u001b[1;32m--> 113\u001b[1;33m                 \u001b[0mreply\u001b[0m \u001b[1;33m=\u001b[0m \u001b[0msock_info\u001b[0m\u001b[1;33m.\u001b[0m\u001b[0mreceive_message\u001b[0m\u001b[1;33m(\u001b[0m\u001b[0mrequest_id\u001b[0m\u001b[1;33m)\u001b[0m\u001b[1;33m\u001b[0m\u001b[1;33m\u001b[0m\u001b[0m\n\u001b[0m\u001b[0;32m    114\u001b[0m \u001b[1;33m\u001b[0m\u001b[0m\n\u001b[0;32m    115\u001b[0m             \u001b[1;31m# Unpack and check for command errors.\u001b[0m\u001b[1;33m\u001b[0m\u001b[1;33m\u001b[0m\u001b[1;33m\u001b[0m\u001b[0m\n",
      "\u001b[1;32m~\\miniconda3\\envs\\diva\\lib\\site-packages\\pymongo\\pool.py\u001b[0m in \u001b[0;36mreceive_message\u001b[1;34m(self, request_id)\u001b[0m\n\u001b[0;32m    760\u001b[0m             \u001b[1;32mreturn\u001b[0m \u001b[0mreceive_message\u001b[0m\u001b[1;33m(\u001b[0m\u001b[0mself\u001b[0m\u001b[1;33m,\u001b[0m \u001b[0mrequest_id\u001b[0m\u001b[1;33m,\u001b[0m \u001b[0mself\u001b[0m\u001b[1;33m.\u001b[0m\u001b[0mmax_message_size\u001b[0m\u001b[1;33m)\u001b[0m\u001b[1;33m\u001b[0m\u001b[1;33m\u001b[0m\u001b[0m\n\u001b[0;32m    761\u001b[0m         \u001b[1;32mexcept\u001b[0m \u001b[0mBaseException\u001b[0m \u001b[1;32mas\u001b[0m \u001b[0merror\u001b[0m\u001b[1;33m:\u001b[0m\u001b[1;33m\u001b[0m\u001b[1;33m\u001b[0m\u001b[0m\n\u001b[1;32m--> 762\u001b[1;33m             \u001b[0mself\u001b[0m\u001b[1;33m.\u001b[0m\u001b[0m_raise_connection_failure\u001b[0m\u001b[1;33m(\u001b[0m\u001b[0merror\u001b[0m\u001b[1;33m)\u001b[0m\u001b[1;33m\u001b[0m\u001b[1;33m\u001b[0m\u001b[0m\n\u001b[0m\u001b[0;32m    763\u001b[0m \u001b[1;33m\u001b[0m\u001b[0m\n\u001b[0;32m    764\u001b[0m     \u001b[1;32mdef\u001b[0m \u001b[0m_raise_if_not_writable\u001b[0m\u001b[1;33m(\u001b[0m\u001b[0mself\u001b[0m\u001b[1;33m,\u001b[0m \u001b[0munacknowledged\u001b[0m\u001b[1;33m)\u001b[0m\u001b[1;33m:\u001b[0m\u001b[1;33m\u001b[0m\u001b[1;33m\u001b[0m\u001b[0m\n",
      "\u001b[1;32m~\\miniconda3\\envs\\diva\\lib\\site-packages\\pymongo\\pool.py\u001b[0m in \u001b[0;36mreceive_message\u001b[1;34m(self, request_id)\u001b[0m\n\u001b[0;32m    758\u001b[0m         \"\"\"\n\u001b[0;32m    759\u001b[0m         \u001b[1;32mtry\u001b[0m\u001b[1;33m:\u001b[0m\u001b[1;33m\u001b[0m\u001b[1;33m\u001b[0m\u001b[0m\n\u001b[1;32m--> 760\u001b[1;33m             \u001b[1;32mreturn\u001b[0m \u001b[0mreceive_message\u001b[0m\u001b[1;33m(\u001b[0m\u001b[0mself\u001b[0m\u001b[1;33m,\u001b[0m \u001b[0mrequest_id\u001b[0m\u001b[1;33m,\u001b[0m \u001b[0mself\u001b[0m\u001b[1;33m.\u001b[0m\u001b[0mmax_message_size\u001b[0m\u001b[1;33m)\u001b[0m\u001b[1;33m\u001b[0m\u001b[1;33m\u001b[0m\u001b[0m\n\u001b[0m\u001b[0;32m    761\u001b[0m         \u001b[1;32mexcept\u001b[0m \u001b[0mBaseException\u001b[0m \u001b[1;32mas\u001b[0m \u001b[0merror\u001b[0m\u001b[1;33m:\u001b[0m\u001b[1;33m\u001b[0m\u001b[1;33m\u001b[0m\u001b[0m\n\u001b[0;32m    762\u001b[0m             \u001b[0mself\u001b[0m\u001b[1;33m.\u001b[0m\u001b[0m_raise_connection_failure\u001b[0m\u001b[1;33m(\u001b[0m\u001b[0merror\u001b[0m\u001b[1;33m)\u001b[0m\u001b[1;33m\u001b[0m\u001b[1;33m\u001b[0m\u001b[0m\n",
      "\u001b[1;32m~\\miniconda3\\envs\\diva\\lib\\site-packages\\pymongo\\network.py\u001b[0m in \u001b[0;36mreceive_message\u001b[1;34m(sock_info, request_id, max_message_size)\u001b[0m\n\u001b[0;32m    214\u001b[0m             compressor_id)\n\u001b[0;32m    215\u001b[0m     \u001b[1;32melse\u001b[0m\u001b[1;33m:\u001b[0m\u001b[1;33m\u001b[0m\u001b[1;33m\u001b[0m\u001b[0m\n\u001b[1;32m--> 216\u001b[1;33m         \u001b[0mdata\u001b[0m \u001b[1;33m=\u001b[0m \u001b[0m_receive_data_on_socket\u001b[0m\u001b[1;33m(\u001b[0m\u001b[0msock_info\u001b[0m\u001b[1;33m,\u001b[0m \u001b[0mlength\u001b[0m \u001b[1;33m-\u001b[0m \u001b[1;36m16\u001b[0m\u001b[1;33m,\u001b[0m \u001b[0mdeadline\u001b[0m\u001b[1;33m)\u001b[0m\u001b[1;33m\u001b[0m\u001b[1;33m\u001b[0m\u001b[0m\n\u001b[0m\u001b[0;32m    217\u001b[0m \u001b[1;33m\u001b[0m\u001b[0m\n\u001b[0;32m    218\u001b[0m     \u001b[1;32mtry\u001b[0m\u001b[1;33m:\u001b[0m\u001b[1;33m\u001b[0m\u001b[1;33m\u001b[0m\u001b[0m\n",
      "\u001b[1;32m~\\miniconda3\\envs\\diva\\lib\\site-packages\\pymongo\\network.py\u001b[0m in \u001b[0;36m_receive_data_on_socket\u001b[1;34m(sock_info, length, deadline)\u001b[0m\n\u001b[0;32m    254\u001b[0m \u001b[1;33m\u001b[0m\u001b[0m\n\u001b[0;32m    255\u001b[0m \u001b[1;32mdef\u001b[0m \u001b[0m_receive_data_on_socket\u001b[0m\u001b[1;33m(\u001b[0m\u001b[0msock_info\u001b[0m\u001b[1;33m,\u001b[0m \u001b[0mlength\u001b[0m\u001b[1;33m,\u001b[0m \u001b[0mdeadline\u001b[0m\u001b[1;33m)\u001b[0m\u001b[1;33m:\u001b[0m\u001b[1;33m\u001b[0m\u001b[1;33m\u001b[0m\u001b[0m\n\u001b[1;32m--> 256\u001b[1;33m     \u001b[0mbuf\u001b[0m \u001b[1;33m=\u001b[0m \u001b[0mbytearray\u001b[0m\u001b[1;33m(\u001b[0m\u001b[0mlength\u001b[0m\u001b[1;33m)\u001b[0m\u001b[1;33m\u001b[0m\u001b[1;33m\u001b[0m\u001b[0m\n\u001b[0m\u001b[0;32m    257\u001b[0m     \u001b[0mmv\u001b[0m \u001b[1;33m=\u001b[0m \u001b[0mmemoryview\u001b[0m\u001b[1;33m(\u001b[0m\u001b[0mbuf\u001b[0m\u001b[1;33m)\u001b[0m\u001b[1;33m\u001b[0m\u001b[1;33m\u001b[0m\u001b[0m\n\u001b[0;32m    258\u001b[0m     \u001b[0mbytes_read\u001b[0m \u001b[1;33m=\u001b[0m \u001b[1;36m0\u001b[0m\u001b[1;33m\u001b[0m\u001b[1;33m\u001b[0m\u001b[0m\n",
      "\u001b[1;31mMemoryError\u001b[0m: "
     ]
    }
   ],
   "source": [
    "asd = list(papers.find(query))"
   ]
  },
  {
   "cell_type": "code",
   "execution_count": null,
   "metadata": {},
   "outputs": [],
   "source": [
    "asd"
   ]
  },
  {
   "cell_type": "code",
   "execution_count": 11,
   "metadata": {},
   "outputs": [],
   "source": [
    "year_windows = list(iterate_windows_over_range(2015, 2022))\n",
    "start, end = year_windows[0]\n",
    "papers = get_papers_in_window(db.papers, start, end)\n",
    "# papers = [p for p in papers if p['cited_by_count'] > 50]\n",
    "ml_concepts = set(c['id'] for c in db.concepts.find() if c['level'] == 1)\n",
    "\n",
    "concept_paper_map = defaultdict(float)\n",
    "concept_num_map = defaultdict(int)\n",
    "for p in papers:\n",
    "    for c in p['concepts']:\n",
    "        if c['id'] in ml_concepts:\n",
    "            concept_paper_map[(c['id'], c['display_name'])] += float(c['score'])\n",
    "            concept_num_map[(c['id'], c['display_name'])] += 1\n",
    "\n",
    "g = nx.Graph()\n",
    "g.add_nodes_from([name for _, name in concept_paper_map.keys()])\n",
    "for k,v in concept_paper_map.items():\n",
    "    _, name = k\n",
    "    g.nodes[name]['points'] = v / concept_num_map[k]\n",
    "\n",
    "\n",
    "edges = []\n",
    "for p in papers:\n",
    "        concepts = (c for c in p['concepts'] if c['id'] in ml_concepts)\n",
    "        # concepts = (c for c in concepts if float(c['score']) > 0.4)\n",
    "        concepts = (c['display_name'] for c in concepts)\n",
    "        edges.extend(list(itertools.combinations(concepts, 2)))\n",
    "\n",
    "edges = [sorted(e) for e in edges]\n",
    "edges = [(e[0], e[1]) for e in edges]\n",
    "\n",
    "# g.add_edges_from(edges)\n",
    "# for p,q in g.edges:\n",
    "#     w = (g.nodes[p]['points'] + g.nodes[q]['points']) / 2\n",
    "#     g.edges[p,q]['weight'] = w"
   ]
  },
  {
   "cell_type": "code",
   "execution_count": 12,
   "metadata": {},
   "outputs": [],
   "source": [
    "counter = Counter(edges)"
   ]
  },
  {
   "cell_type": "code",
   "execution_count": 14,
   "metadata": {},
   "outputs": [
    {
     "data": {
      "text/plain": [
       "dict_items([(('Algorithm', 'Artificial intelligence'), 2323), (('Artificial intelligence', 'Data mining'), 4726), (('Artificial intelligence', 'Machine learning'), 16775), (('Algorithm', 'Data mining'), 751), (('Algorithm', 'Machine learning'), 2404), (('Data mining', 'Machine learning'), 4950), (('Artificial intelligence', 'Natural language processing'), 1084), (('Artificial intelligence', 'Programming language'), 26), (('Machine learning', 'Natural language processing'), 1084), (('Natural language processing', 'Programming language'), 5), (('Machine learning', 'Programming language'), 26), (('Artificial intelligence', 'Human–computer interaction'), 527), (('Human–computer interaction', 'Machine learning'), 538), (('Artificial intelligence', 'Information retrieval'), 865), (('Information retrieval', 'Machine learning'), 895), (('Data mining', 'Data science'), 411), (('Data science', 'Machine learning'), 609), (('Artificial intelligence', 'Data science'), 531), (('Data mining', 'Information retrieval'), 432), (('Artificial intelligence', 'Computer vision'), 493), (('Computer vision', 'Machine learning'), 493), (('Artificial intelligence', 'Database'), 13), (('Database', 'Machine learning'), 15), (('Database', 'Information retrieval'), 4), (('Information retrieval', 'Natural language processing'), 341), (('Data science', 'Information retrieval'), 134), (('Information retrieval', 'World Wide Web'), 56), (('Data mining', 'World Wide Web'), 38), (('Artificial intelligence', 'World Wide Web'), 80), (('Data science', 'World Wide Web'), 31), (('Machine learning', 'World Wide Web'), 87), (('Artificial intelligence', 'Knowledge management'), 52), (('Data mining', 'Knowledge management'), 16), (('Data science', 'Knowledge management'), 15), (('Knowledge management', 'Machine learning'), 57), (('Artificial intelligence', 'Theoretical computer science'), 140), (('Natural language processing', 'Theoretical computer science'), 11), (('Machine learning', 'Theoretical computer science'), 145), (('Artificial intelligence', 'Computer hardware'), 5), (('Computer hardware', 'Machine learning'), 5), (('Data science', 'Human–computer interaction'), 22), (('Data mining', 'Human–computer interaction'), 9), (('Artificial intelligence', 'Speech recognition'), 420), (('Natural language processing', 'Speech recognition'), 71), (('Machine learning', 'Speech recognition'), 420), (('Human–computer interaction', 'Information retrieval'), 27), (('Human–computer interaction', 'Speech recognition'), 12), (('Artificial intelligence', 'Computer engineering'), 2), (('Artificial intelligence', 'Computer architecture'), 10), (('Computer engineering', 'Computer hardware'), 1), (('Computer architecture', 'Computer hardware'), 2), (('Computer engineering', 'Machine learning'), 2), (('Computer architecture', 'Computer engineering'), 1), (('Computer architecture', 'Machine learning'), 10), (('Machine learning', 'Software engineering'), 62), (('Data mining', 'Natural language processing'), 114), (('Human–computer interaction', 'Knowledge management'), 9), (('Algorithm', 'Speech recognition'), 33), (('Computer vision', 'Human–computer interaction'), 16), (('Data science', 'Natural language processing'), 49), (('Human–computer interaction', 'Multimedia'), 38), (('Artificial intelligence', 'Multimedia'), 59), (('Machine learning', 'Multimedia'), 65), (('Artificial intelligence', 'Computer security'), 78), (('Computer security', 'Machine learning'), 78), (('Computer vision', 'Natural language processing'), 2), (('Computer vision', 'Information retrieval'), 1), (('Human–computer interaction', 'Theoretical computer science'), 1), (('Algorithm', 'Theoretical computer science'), 37), (('Artificial intelligence', 'Distributed computing'), 38), (('Distributed computing', 'Machine learning'), 45), (('Artificial intelligence', 'Software engineering'), 57), (('Algorithm', 'Computer vision'), 31), (('Algorithm', 'Natural language processing'), 6), (('Human–computer interaction', 'World Wide Web'), 13), (('Natural language processing', 'World Wide Web'), 6), (('Data mining', 'Software engineering'), 16), (('Algorithm', 'Information retrieval'), 22), (('Algorithm', 'Human–computer interaction'), 1), (('Artificial intelligence', 'Computer network'), 13), (('Algorithm', 'Computer network'), 2), (('Computer network', 'Machine learning'), 15), (('Data mining', 'Theoretical computer science'), 25), (('Human–computer interaction', 'Natural language processing'), 28), (('Algorithm', 'Data science'), 5), (('Information retrieval', 'Knowledge management'), 3), (('Knowledge management', 'Natural language processing'), 4), (('Computer security', 'Data mining'), 25), (('Artificial intelligence', 'Real-time computing'), 32), (('Machine learning', 'Real-time computing'), 32), (('Algorithm', 'Real-time computing'), 8), (('Data mining', 'Real-time computing'), 19), (('Multimedia', 'Speech recognition'), 1), (('Multimedia', 'Natural language processing'), 2), (('Artificial intelligence', 'Simulation'), 3), (('Machine learning', 'Simulation'), 3), (('Data mining', 'Distributed computing'), 13), (('Distributed computing', 'Real-time computing'), 2), (('Algorithm', 'Distributed computing'), 7), (('Programming language', 'Theoretical computer science'), 3), (('Programming language', 'Speech recognition'), 1), (('Data mining', 'Speech recognition'), 6), (('Data science', 'Distributed computing'), 4), (('Information retrieval', 'Theoretical computer science'), 7), (('Information retrieval', 'Multimedia'), 5), (('Artificial intelligence', 'Parallel computing'), 21), (('Machine learning', 'Parallel computing'), 22), (('Multimedia', 'World Wide Web'), 5), (('Data science', 'Software engineering'), 1), (('Computational science', 'Machine learning'), 1), (('Artificial intelligence', 'Computational science'), 1), (('Data mining', 'Parallel computing'), 2), (('Algorithm', 'Software engineering'), 1), (('Artificial intelligence', 'Internet privacy'), 4), (('Internet privacy', 'Machine learning'), 4), (('Internet privacy', 'World Wide Web'), 1), (('Human–computer interaction', 'Software engineering'), 7), (('Human–computer interaction', 'Programming language'), 3), (('Programming language', 'Software engineering'), 4), (('Computer vision', 'Data mining'), 5), (('Real-time computing', 'Speech recognition'), 1), (('Human–computer interaction', 'Internet privacy'), 1), (('Computer security', 'Internet privacy'), 1), (('Computer security', 'Human–computer interaction'), 1), (('Computer security', 'Data science'), 5), (('Algorithm', 'Computer hardware'), 2), (('Algorithm', 'Computer architecture'), 2), (('Data mining', 'Database'), 13), (('Data science', 'Theoretical computer science'), 3), (('Computer security', 'Natural language processing'), 1), (('Computer security', 'Speech recognition'), 1), (('Data science', 'Database'), 4), (('Computer hardware', 'Speech recognition'), 1), (('Computer vision', 'Speech recognition'), 4), (('Computer architecture', 'Parallel computing'), 3), (('Algorithm', 'Database'), 1), (('Artificial intelligence', 'Operating system'), 3), (('Artificial intelligence', 'Embedded system'), 2), (('Machine learning', 'Operating system'), 3), (('Embedded system', 'Machine learning'), 2), (('Operating system', 'Parallel computing'), 1), (('Embedded system', 'Parallel computing'), 1), (('Computer architecture', 'Operating system'), 1), (('Embedded system', 'Operating system'), 1), (('Computer architecture', 'Embedded system'), 1), (('Computer network', 'Data mining'), 3), (('Computer architecture', 'Human–computer interaction'), 1), (('Computer security', 'Operating system'), 1), (('Distributed computing', 'Human–computer interaction'), 2), (('Algorithm', 'Parallel computing'), 4), (('Algorithm', 'Computer engineering'), 1), (('Computer engineering', 'Parallel computing'), 1), (('Computer network', 'Computer security'), 1), (('Data science', 'Multimedia'), 2), (('Data mining', 'Multimedia'), 1), (('Database', 'Natural language processing'), 1), (('Computer security', 'World Wide Web'), 1), (('Information retrieval', 'Speech recognition'), 1), (('Embedded system', 'Real-time computing'), 1), (('Computer vision', 'Data science'), 2), (('Computer security', 'Database'), 1), (('Distributed computing', 'Theoretical computer science'), 1), (('Computer security', 'Knowledge management'), 1), (('Knowledge management', 'Software engineering'), 1), (('Computer network', 'World Wide Web'), 1)])"
      ]
     },
     "execution_count": 14,
     "metadata": {},
     "output_type": "execute_result"
    }
   ],
   "source": [
    "counter.items()"
   ]
  },
  {
   "cell_type": "code",
   "execution_count": 10,
   "metadata": {},
   "outputs": [
    {
     "data": {
      "text/plain": [
       "[]"
      ]
     },
     "execution_count": 10,
     "metadata": {},
     "output_type": "execute_result"
    }
   ],
   "source": [
    "edges"
   ]
  },
  {
   "cell_type": "code",
   "execution_count": null,
   "metadata": {},
   "outputs": [],
   "source": []
  }
 ],
 "metadata": {
  "interpreter": {
   "hash": "88922aa3156c74f7f862916dc584dff598c83e616b4cb5980487ea221508d1bf"
  },
  "kernelspec": {
   "display_name": "Python 3.9.0 ('diva')",
   "language": "python",
   "name": "python3"
  },
  "language_info": {
   "codemirror_mode": {
    "name": "ipython",
    "version": 3
   },
   "file_extension": ".py",
   "mimetype": "text/x-python",
   "name": "python",
   "nbconvert_exporter": "python",
   "pygments_lexer": "ipython3",
   "version": "3.9.0"
  },
  "orig_nbformat": 4
 },
 "nbformat": 4,
 "nbformat_minor": 2
}
