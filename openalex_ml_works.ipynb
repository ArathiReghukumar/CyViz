{
 "cells": [
  {
   "cell_type": "code",
   "execution_count": 1,
   "metadata": {},
   "outputs": [],
   "source": [
    "import requests\n",
    "from datetime import datetime, timedelta\n",
    "from dateutil.relativedelta import relativedelta"
   ]
  },
  {
   "cell_type": "code",
   "execution_count": 2,
   "metadata": {},
   "outputs": [],
   "source": [
    "def daterange(start_date, end_date):\n",
    "    for n in range(int((end_date - start_date).days)):\n",
    "        yield start_date + timedelta(n)"
   ]
  },
  {
   "cell_type": "code",
   "execution_count": 3,
   "metadata": {},
   "outputs": [],
   "source": [
    "def gen_params(start, end):\n",
    "    start_str = start.strftime('%Y-%m-%d')\n",
    "    end_str = end.strftime('%Y-%m-%d')\n",
    "    date_filter_str = f'from_publication_date:{start_str},to_publication_date:{end_str},cited_by_count:>1,is_retracted:False'\n",
    "        # cited_by_count:>10, \\\n",
    "        # is_retracted:False'\n",
    "\n",
    "    params = {\n",
    "        'filter': f'concepts.id:C107457646,{date_filter_str}',\n",
    "        # 'sort' : 'publication_date',\n",
    "        'per_page': 200,\n",
    "    }\n",
    "\n",
    "    return params"
   ]
  },
  {
   "cell_type": "code",
   "execution_count": 4,
   "metadata": {},
   "outputs": [],
   "source": [
    "def fetch(params):\n",
    "    data = []\n",
    "    for i in range(1, 51):\n",
    "        r = requests.get(url, params | {'page': i})\n",
    "        json_data = r.json()\n",
    "        assert json_data['meta']['count'] < 10000\n",
    "        if i == 1: print(json_data['meta']['count'])\n",
    "        if len(json_data['results']) == 0:break\n",
    "        data.extend(json_data['results'])\n",
    "\n",
    "    return data"
   ]
  },
  {
   "cell_type": "code",
   "execution_count": 5,
   "metadata": {},
   "outputs": [
    {
     "name": "stdout",
     "output_type": "stream",
     "text": [
      "{'count': 273211, 'db_response_time_ms': 286, 'page': 1, 'per_page': 200}\n",
      "1980-01-01 00:00:00 1980-07-01 00:00:00\n",
      "185\n",
      "1980-07-01 00:00:00 1981-01-01 00:00:00\n",
      "224\n",
      "1981-01-01 00:00:00 1981-07-01 00:00:00\n",
      "259\n",
      "1981-07-01 00:00:00 1982-01-01 00:00:00\n",
      "241\n",
      "1982-01-01 00:00:00 1982-07-01 00:00:00\n",
      "286\n",
      "1982-07-01 00:00:00 1983-01-01 00:00:00\n",
      "293\n",
      "1983-01-01 00:00:00 1983-07-01 00:00:00\n",
      "294\n",
      "1983-07-01 00:00:00 1984-01-01 00:00:00\n",
      "397\n",
      "1984-01-01 00:00:00 1984-07-01 00:00:00\n",
      "364\n",
      "1984-07-01 00:00:00 1985-01-01 00:00:00\n",
      "448\n",
      "1985-01-01 00:00:00 1985-07-01 00:00:00\n",
      "449\n",
      "1985-07-01 00:00:00 1986-01-01 00:00:00\n",
      "486\n",
      "1986-01-01 00:00:00 1986-07-01 00:00:00\n",
      "567\n",
      "1986-07-01 00:00:00 1987-01-01 00:00:00\n",
      "725\n",
      "1987-01-01 00:00:00 1987-07-01 00:00:00\n",
      "689\n",
      "1987-07-01 00:00:00 1988-01-01 00:00:00\n",
      "757\n",
      "1988-01-01 00:00:00 1988-07-01 00:00:00\n",
      "830\n",
      "1988-07-01 00:00:00 1989-01-01 00:00:00\n",
      "782\n",
      "1989-01-01 00:00:00 1989-07-01 00:00:00\n",
      "883\n",
      "1989-07-01 00:00:00 1990-01-01 00:00:00\n",
      "1063\n",
      "1990-01-01 00:00:00 1990-07-01 00:00:00\n",
      "1050\n",
      "1990-07-01 00:00:00 1991-01-01 00:00:00\n",
      "1130\n",
      "1991-01-01 00:00:00 1991-07-01 00:00:00\n",
      "1210\n",
      "1991-07-01 00:00:00 1992-01-01 00:00:00\n",
      "1288\n",
      "1992-01-01 00:00:00 1992-07-01 00:00:00\n",
      "1378\n",
      "1992-07-01 00:00:00 1993-01-01 00:00:00\n",
      "1486\n",
      "1993-01-01 00:00:00 1993-07-01 00:00:00\n",
      "1583\n",
      "1993-07-01 00:00:00 1994-01-01 00:00:00\n",
      "1665\n",
      "1994-01-01 00:00:00 1994-07-01 00:00:00\n",
      "1571\n",
      "1994-07-01 00:00:00 1995-01-01 00:00:00\n",
      "1914\n",
      "1995-01-01 00:00:00 1995-07-01 00:00:00\n",
      "1957\n",
      "1995-07-01 00:00:00 1996-01-01 00:00:00\n",
      "2201\n",
      "1996-01-01 00:00:00 1996-07-01 00:00:00\n",
      "2083\n",
      "1996-07-01 00:00:00 1997-01-01 00:00:00\n",
      "2229\n",
      "1997-01-01 00:00:00 1997-07-01 00:00:00\n",
      "2265\n",
      "1997-07-01 00:00:00 1998-01-01 00:00:00\n",
      "2866\n",
      "1998-01-01 00:00:00 1998-07-01 00:00:00\n",
      "2728\n",
      "1998-07-01 00:00:00 1999-01-01 00:00:00\n",
      "2854\n",
      "1999-01-01 00:00:00 1999-07-01 00:00:00\n",
      "2661\n",
      "1999-07-01 00:00:00 2000-01-01 00:00:00\n",
      "3210\n",
      "2000-01-01 00:00:00 2000-07-01 00:00:00\n",
      "3049\n",
      "2000-07-01 00:00:00 2001-01-01 00:00:00\n",
      "3710\n",
      "2001-01-01 00:00:00 2001-07-01 00:00:00\n",
      "3372\n",
      "2001-07-01 00:00:00 2002-01-01 00:00:00\n",
      "4046\n",
      "2002-01-01 00:00:00 2002-07-01 00:00:00\n",
      "3712\n",
      "2002-07-01 00:00:00 2003-01-01 00:00:00\n",
      "4985\n",
      "2003-01-01 00:00:00 2003-07-01 00:00:00\n",
      "4280\n",
      "2003-07-01 00:00:00 2004-01-01 00:00:00\n",
      "5226\n",
      "2004-01-01 00:00:00 2004-07-01 00:00:00\n",
      "4868\n",
      "2004-07-01 00:00:00 2005-01-01 00:00:00\n",
      "6062\n",
      "2005-01-01 00:00:00 2005-07-01 00:00:00\n",
      "5360\n",
      "2005-07-01 00:00:00 2006-01-01 00:00:00\n",
      "6482\n",
      "2006-01-01 00:00:00 2006-07-01 00:00:00\n",
      "6008\n",
      "2006-07-01 00:00:00 2007-01-01 00:00:00\n",
      "6784\n",
      "2007-01-01 00:00:00 2007-07-01 00:00:00\n",
      "6062\n",
      "2007-07-01 00:00:00 2008-01-01 00:00:00\n",
      "7558\n",
      "2008-01-01 00:00:00 2008-07-01 00:00:00\n",
      "6434\n",
      "2008-07-01 00:00:00 2009-01-01 00:00:00\n",
      "7830\n",
      "2009-01-01 00:00:00 2009-07-01 00:00:00\n",
      "6993\n",
      "2009-07-01 00:00:00 2010-01-01 00:00:00\n",
      "8298\n",
      "2010-01-01 00:00:00 2010-07-01 00:00:00\n",
      "7089\n",
      "2010-07-01 00:00:00 2011-01-01 00:00:00\n",
      "8666\n",
      "2011-01-01 00:00:00 2011-07-01 00:00:00\n",
      "7563\n",
      "2011-07-01 00:00:00 2012-01-01 00:00:00\n",
      "8764\n",
      "2012-01-01 00:00:00 2012-07-01 00:00:00\n",
      "7652\n",
      "2012-07-01 00:00:00 2013-01-01 00:00:00\n",
      "8674\n",
      "2013-01-01 00:00:00 2013-07-01 00:00:00\n",
      "7623\n",
      "2013-07-01 00:00:00 2014-01-01 00:00:00\n",
      "9340\n",
      "2014-01-01 00:00:00 2014-07-01 00:00:00\n",
      "8087\n",
      "2014-07-01 00:00:00 2015-01-01 00:00:00\n",
      "8686\n",
      "2015-01-01 00:00:00 2015-07-01 00:00:00\n",
      "7489\n",
      "2015-07-01 00:00:00 2016-01-01 00:00:00\n",
      "8692\n",
      "2016-01-01 00:00:00 2016-07-01 00:00:00\n",
      "7416\n",
      "2016-07-01 00:00:00 2017-01-01 00:00:00\n",
      "8866\n",
      "2017-01-01 00:00:00 2017-07-01 00:00:00\n",
      "7907\n",
      "2017-07-01 00:00:00 2018-01-01 00:00:00\n",
      "8626\n",
      "2018-01-01 00:00:00 2018-07-01 00:00:00\n",
      "7901\n",
      "2018-07-01 00:00:00 2019-01-01 00:00:00\n",
      "8026\n",
      "2019-01-01 00:00:00 2019-07-01 00:00:00\n",
      "7611\n",
      "2019-07-01 00:00:00 2020-01-01 00:00:00\n",
      "7244\n",
      "2020-01-01 00:00:00 2020-07-01 00:00:00\n",
      "6021\n",
      "2020-07-01 00:00:00 2021-01-01 00:00:00\n",
      "4722\n",
      "2021-01-01 00:00:00 2021-07-01 00:00:00\n",
      "2978\n",
      "2021-07-01 00:00:00 2022-01-01 00:00:00\n",
      "817\n"
     ]
    },
    {
     "data": {
      "text/plain": [
       "337130"
      ]
     },
     "execution_count": 5,
     "metadata": {},
     "output_type": "execute_result"
    }
   ],
   "source": [
    "url = 'https://api.openalex.org/works'\n",
    "\n",
    "# start = datetime.strptime('1980-01-01', '%Y-%m-%d')\n",
    "# # step = timedelta(days=28)\n",
    "# step = relativedelta(months=12)\n",
    "# end = datetime.strptime('2000-12-31', '%Y-%m-%d')\n",
    "\n",
    "start = datetime.strptime('1980-01-01', '%Y-%m-%d')\n",
    "# step = timedelta(days=28)\n",
    "step = relativedelta(months=6)\n",
    "end = datetime.strptime('2021-12-31', '%Y-%m-%d')\n",
    "\n",
    "params = gen_params(start, end)\n",
    "r = requests.get(url, params)\n",
    "json_data = r.json()\n",
    "print(json_data['meta'])\n",
    "\n",
    "data = []\n",
    "curr_date = start\n",
    "while curr_date < end:\n",
    "    print(curr_date, curr_date + step)\n",
    "    params = gen_params(curr_date, curr_date + step)\n",
    "    data.extend(fetch(params))\n",
    "    curr_date = curr_date + step\n",
    "\n",
    "\n",
    "len(data)\n"
   ]
  },
  {
   "cell_type": "code",
   "execution_count": 6,
   "metadata": {},
   "outputs": [
    {
     "data": {
      "text/plain": [
       "337130"
      ]
     },
     "execution_count": 6,
     "metadata": {},
     "output_type": "execute_result"
    }
   ],
   "source": [
    "len(data)"
   ]
  },
  {
   "cell_type": "code",
   "execution_count": 7,
   "metadata": {},
   "outputs": [],
   "source": [
    "from pymongo import MongoClient\n",
    "client = MongoClient('localhost', 27017)"
   ]
  },
  {
   "cell_type": "code",
   "execution_count": 8,
   "metadata": {},
   "outputs": [],
   "source": [
    "db = client['diva-proj']\n",
    "papers = db.papers"
   ]
  },
  {
   "cell_type": "code",
   "execution_count": 9,
   "metadata": {},
   "outputs": [],
   "source": [
    "def format_for_mongo(din):\n",
    "    from copy import deepcopy\n",
    "    d = deepcopy(din)\n",
    "    d['wid'] = d['id'].split('/')[-1]\n",
    "    d['publication_date'] = datetime.strptime(d['publication_date'], '%Y-%m-%d')\n",
    "    return d"
   ]
  },
  {
   "cell_type": "code",
   "execution_count": 10,
   "metadata": {},
   "outputs": [],
   "source": [
    "data_to_insert = [format_for_mongo(d) for d in data]\n",
    "try:\n",
    "    papers.insert_many(data_to_insert, ordered=False)\n",
    "except:\n",
    "    print('asd')"
   ]
  },
  {
   "cell_type": "code",
   "execution_count": null,
   "metadata": {},
   "outputs": [],
   "source": []
  }
 ],
 "metadata": {
  "interpreter": {
   "hash": "88922aa3156c74f7f862916dc584dff598c83e616b4cb5980487ea221508d1bf"
  },
  "kernelspec": {
   "display_name": "Python 3.9.0 64-bit ('diva': conda)",
   "language": "python",
   "name": "python3"
  },
  "language_info": {
   "codemirror_mode": {
    "name": "ipython",
    "version": 3
   },
   "file_extension": ".py",
   "mimetype": "text/x-python",
   "name": "python",
   "nbconvert_exporter": "python",
   "pygments_lexer": "ipython3",
   "version": "3.9.0"
  },
  "orig_nbformat": 4
 },
 "nbformat": 4,
 "nbformat_minor": 2
}
